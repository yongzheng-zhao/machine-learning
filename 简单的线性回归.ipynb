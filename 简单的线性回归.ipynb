{
 "cells": [
  {
   "cell_type": "markdown",
   "metadata": {},
   "source": [
    "Scatter plot\n"
   ]
  },
  {
   "cell_type": "code",
   "execution_count": 1,
   "metadata": {},
   "outputs": [],
   "source": [
    "import numpy as np\n",
    "import pandas as pd\n",
    "import matplotlib.pyplot as plt\n",
    "import seaborn as sns"
   ]
  },
  {
   "cell_type": "markdown",
   "metadata": {},
   "source": [
    "1.The relationship between working experience and salary?\n"
   ]
  },
  {
   "cell_type": "code",
   "execution_count": 2,
   "metadata": {},
   "outputs": [
    {
     "data": {
      "text/html": [
       "<div>\n",
       "<style scoped>\n",
       "    .dataframe tbody tr th:only-of-type {\n",
       "        vertical-align: middle;\n",
       "    }\n",
       "\n",
       "    .dataframe tbody tr th {\n",
       "        vertical-align: top;\n",
       "    }\n",
       "\n",
       "    .dataframe thead th {\n",
       "        text-align: right;\n",
       "    }\n",
       "</style>\n",
       "<table border=\"1\" class=\"dataframe\">\n",
       "  <thead>\n",
       "    <tr style=\"text-align: right;\">\n",
       "      <th></th>\n",
       "      <th>experience</th>\n",
       "      <th>salary</th>\n",
       "    </tr>\n",
       "  </thead>\n",
       "  <tbody>\n",
       "    <tr>\n",
       "      <th>0</th>\n",
       "      <td>1</td>\n",
       "      <td>5000</td>\n",
       "    </tr>\n",
       "    <tr>\n",
       "      <th>1</th>\n",
       "      <td>2</td>\n",
       "      <td>7000</td>\n",
       "    </tr>\n",
       "    <tr>\n",
       "      <th>2</th>\n",
       "      <td>3</td>\n",
       "      <td>8000</td>\n",
       "    </tr>\n",
       "    <tr>\n",
       "      <th>3</th>\n",
       "      <td>4</td>\n",
       "      <td>10000</td>\n",
       "    </tr>\n",
       "    <tr>\n",
       "      <th>4</th>\n",
       "      <td>5</td>\n",
       "      <td>15000</td>\n",
       "    </tr>\n",
       "    <tr>\n",
       "      <th>5</th>\n",
       "      <td>6</td>\n",
       "      <td>18000</td>\n",
       "    </tr>\n",
       "    <tr>\n",
       "      <th>6</th>\n",
       "      <td>7</td>\n",
       "      <td>19000</td>\n",
       "    </tr>\n",
       "    <tr>\n",
       "      <th>7</th>\n",
       "      <td>8</td>\n",
       "      <td>20000</td>\n",
       "    </tr>\n",
       "    <tr>\n",
       "      <th>8</th>\n",
       "      <td>9</td>\n",
       "      <td>16000</td>\n",
       "    </tr>\n",
       "    <tr>\n",
       "      <th>9</th>\n",
       "      <td>10</td>\n",
       "      <td>300000</td>\n",
       "    </tr>\n",
       "    <tr>\n",
       "      <th>10</th>\n",
       "      <td>2</td>\n",
       "      <td>12000</td>\n",
       "    </tr>\n",
       "    <tr>\n",
       "      <th>11</th>\n",
       "      <td>2</td>\n",
       "      <td>6000</td>\n",
       "    </tr>\n",
       "    <tr>\n",
       "      <th>12</th>\n",
       "      <td>3</td>\n",
       "      <td>8000</td>\n",
       "    </tr>\n",
       "    <tr>\n",
       "      <th>13</th>\n",
       "      <td>3</td>\n",
       "      <td>5500</td>\n",
       "    </tr>\n",
       "    <tr>\n",
       "      <th>14</th>\n",
       "      <td>3</td>\n",
       "      <td>9000</td>\n",
       "    </tr>\n",
       "    <tr>\n",
       "      <th>15</th>\n",
       "      <td>2</td>\n",
       "      <td>7800</td>\n",
       "    </tr>\n",
       "    <tr>\n",
       "      <th>16</th>\n",
       "      <td>4</td>\n",
       "      <td>9200</td>\n",
       "    </tr>\n",
       "    <tr>\n",
       "      <th>17</th>\n",
       "      <td>5</td>\n",
       "      <td>14000</td>\n",
       "    </tr>\n",
       "    <tr>\n",
       "      <th>18</th>\n",
       "      <td>5</td>\n",
       "      <td>16000</td>\n",
       "    </tr>\n",
       "    <tr>\n",
       "      <th>19</th>\n",
       "      <td>2</td>\n",
       "      <td>8000</td>\n",
       "    </tr>\n",
       "  </tbody>\n",
       "</table>\n",
       "</div>"
      ],
      "text/plain": [
       "    experience  salary\n",
       "0            1    5000\n",
       "1            2    7000\n",
       "2            3    8000\n",
       "3            4   10000\n",
       "4            5   15000\n",
       "5            6   18000\n",
       "6            7   19000\n",
       "7            8   20000\n",
       "8            9   16000\n",
       "9           10  300000\n",
       "10           2   12000\n",
       "11           2    6000\n",
       "12           3    8000\n",
       "13           3    5500\n",
       "14           3    9000\n",
       "15           2    7800\n",
       "16           4    9200\n",
       "17           5   14000\n",
       "18           5   16000\n",
       "19           2    8000"
      ]
     },
     "execution_count": 2,
     "metadata": {},
     "output_type": "execute_result"
    }
   ],
   "source": [
    "experience = [1, 2, 3, 4, 5, 6, 7, 8, 9, 10, 2, 2, 3, 3, 3, 2, 4, 5, 5, 2]\n",
    "salary     = [5000, 7000, 8000, 10000, 15000, 18000, 19000, 20000, 16000, 300000, 12000, 6000, 8000, 5500, 9000, 7800, 9200, 14000, 16000, 8000]\n",
    "\n",
    "list_of_tuples = list(zip(experience, salary))\n",
    "df = pd.DataFrame(list_of_tuples, columns=['experience', 'salary'])\n",
    "df"
   ]
  },
  {
   "cell_type": "code",
   "execution_count": 3,
   "metadata": {},
   "outputs": [
    {
     "data": {
      "text/html": [
       "<div>\n",
       "<style scoped>\n",
       "    .dataframe tbody tr th:only-of-type {\n",
       "        vertical-align: middle;\n",
       "    }\n",
       "\n",
       "    .dataframe tbody tr th {\n",
       "        vertical-align: top;\n",
       "    }\n",
       "\n",
       "    .dataframe thead th {\n",
       "        text-align: right;\n",
       "    }\n",
       "</style>\n",
       "<table border=\"1\" class=\"dataframe\">\n",
       "  <thead>\n",
       "    <tr style=\"text-align: right;\">\n",
       "      <th></th>\n",
       "      <th>experience</th>\n",
       "      <th>salary</th>\n",
       "    </tr>\n",
       "  </thead>\n",
       "  <tbody>\n",
       "    <tr>\n",
       "      <th>count</th>\n",
       "      <td>20.000000</td>\n",
       "      <td>20.000000</td>\n",
       "    </tr>\n",
       "    <tr>\n",
       "      <th>mean</th>\n",
       "      <td>4.300000</td>\n",
       "      <td>25675.000000</td>\n",
       "    </tr>\n",
       "    <tr>\n",
       "      <th>std</th>\n",
       "      <td>2.556725</td>\n",
       "      <td>64741.029657</td>\n",
       "    </tr>\n",
       "    <tr>\n",
       "      <th>min</th>\n",
       "      <td>1.000000</td>\n",
       "      <td>5000.000000</td>\n",
       "    </tr>\n",
       "    <tr>\n",
       "      <th>25%</th>\n",
       "      <td>2.000000</td>\n",
       "      <td>7950.000000</td>\n",
       "    </tr>\n",
       "    <tr>\n",
       "      <th>50%</th>\n",
       "      <td>3.500000</td>\n",
       "      <td>9600.000000</td>\n",
       "    </tr>\n",
       "    <tr>\n",
       "      <th>75%</th>\n",
       "      <td>5.250000</td>\n",
       "      <td>16000.000000</td>\n",
       "    </tr>\n",
       "    <tr>\n",
       "      <th>max</th>\n",
       "      <td>10.000000</td>\n",
       "      <td>300000.000000</td>\n",
       "    </tr>\n",
       "  </tbody>\n",
       "</table>\n",
       "</div>"
      ],
      "text/plain": [
       "       experience         salary\n",
       "count   20.000000      20.000000\n",
       "mean     4.300000   25675.000000\n",
       "std      2.556725   64741.029657\n",
       "min      1.000000    5000.000000\n",
       "25%      2.000000    7950.000000\n",
       "50%      3.500000    9600.000000\n",
       "75%      5.250000   16000.000000\n",
       "max     10.000000  300000.000000"
      ]
     },
     "execution_count": 3,
     "metadata": {},
     "output_type": "execute_result"
    }
   ],
   "source": [
    "df.describe()"
   ]
  },
  {
   "cell_type": "code",
   "execution_count": 4,
   "metadata": {},
   "outputs": [
    {
     "data": {
      "text/html": [
       "<div>\n",
       "<style scoped>\n",
       "    .dataframe tbody tr th:only-of-type {\n",
       "        vertical-align: middle;\n",
       "    }\n",
       "\n",
       "    .dataframe tbody tr th {\n",
       "        vertical-align: top;\n",
       "    }\n",
       "\n",
       "    .dataframe thead th {\n",
       "        text-align: right;\n",
       "    }\n",
       "</style>\n",
       "<table border=\"1\" class=\"dataframe\">\n",
       "  <thead>\n",
       "    <tr style=\"text-align: right;\">\n",
       "      <th></th>\n",
       "      <th>experience</th>\n",
       "      <th>salary</th>\n",
       "    </tr>\n",
       "  </thead>\n",
       "  <tbody>\n",
       "    <tr>\n",
       "      <th>experience</th>\n",
       "      <td>1.000000</td>\n",
       "      <td>0.577699</td>\n",
       "    </tr>\n",
       "    <tr>\n",
       "      <th>salary</th>\n",
       "      <td>0.577699</td>\n",
       "      <td>1.000000</td>\n",
       "    </tr>\n",
       "  </tbody>\n",
       "</table>\n",
       "</div>"
      ],
      "text/plain": [
       "            experience    salary\n",
       "experience    1.000000  0.577699\n",
       "salary        0.577699  1.000000"
      ]
     },
     "execution_count": 4,
     "metadata": {},
     "output_type": "execute_result"
    }
   ],
   "source": [
    "df.corr()"
   ]
  },
  {
   "cell_type": "code",
   "execution_count": 5,
   "metadata": {},
   "outputs": [
    {
     "data": {
      "text/plain": [
       "<function matplotlib.pyplot.show(*args, **kw)>"
      ]
     },
     "execution_count": 5,
     "metadata": {},
     "output_type": "execute_result"
    },
    {
     "data": {
      "image/png": "[encoded data removed]",
      "text/plain": [
       "<Figure size 432x288 with 1 Axes>"
      ]
     },
     "metadata": {
      "needs_background": "light"
     },
     "output_type": "display_data"
    }
   ],
   "source": [
    "plt.scatter(df.experience, df.salary)\n",
    "plt.xlabel(\"experience\")\n",
    "plt.ylabel(\"salary\")\n",
    "plt.show"
   ]
  },
  {
   "cell_type": "code",
   "execution_count": 6,
   "metadata": {},
   "outputs": [
    {
     "data": {
      "text/plain": [
       "<matplotlib.axes._subplots.AxesSubplot at 0x16ffa38a710>"
      ]
     },
     "execution_count": 6,
     "metadata": {},
     "output_type": "execute_result"
    },
    {
     "data": {
      "image/png": "[encoded data removed]",
      "text/plain": [
       "<Figure size 432x288 with 1 Axes>"
      ]
     },
     "metadata": {
      "needs_background": "light"
     },
     "output_type": "display_data"
    }
   ],
   "source": [
    "df.plot(kind=\"hist\", y=\"experience\", bins=10, range = (0, 50), density = True)"
   ]
  },
  {
   "cell_type": "code",
   "execution_count": 7,
   "metadata": {},
   "outputs": [
    {
     "data": {
      "image/png": "[encoded data removed]",
      "text/plain": [
       "<Figure size 1440x720 with 2 Axes>"
      ]
     },
     "metadata": {
      "needs_background": "light"
     },
     "output_type": "display_data"
    }
   ],
   "source": [
    "f, ax = plt.subplots(figsize=(20, 10))\n",
    "sns.heatmap(df, annot=True, linewidths=0.5, linecolor=\"red\", fmt=\".1f\", ax=ax)\n",
    "plt.show()"
   ]
  },
  {
   "cell_type": "markdown",
   "metadata": {},
   "source": [
    "1.Covariance(linear association):\n",
    "$Cov(X,Y)=\\sum_{i=1}^{n}(X_i-\\overline X)(Y_i-\\overline Y)/(n-1)$"
   ]
  },
  {
   "cell_type": "markdown",
   "metadata": {},
   "source": [
    "2.Because covariance ranges from negative infinity to positive infinity, we usually use Correlation instead of Covariance, which ranged from -1 to 1:\n",
    "$r= \\frac {𝐶𝑜𝑣(𝑋,𝑌)}{S_x S_y}$"
   ]
  },
  {
   "cell_type": "markdown",
   "metadata": {},
   "source": [
    "3.Variance: $Variance(X, X)=\\sum_{i=1}^{n}(X_i-\\overline X)(X_i-\\overline X)/(n-1)$"
   ]
  },
  {
   "cell_type": "code",
   "execution_count": 8,
   "metadata": {},
   "outputs": [],
   "source": [
    "# First, Let's calculate the mean!\n",
    "def calculate_mean(a_list_of_values):\n",
    "    mean = sum(a_list_of_values) / float(len(a_list_of_values))\n",
    "    return mean"
   ]
  },
  {
   "cell_type": "code",
   "execution_count": 9,
   "metadata": {},
   "outputs": [],
   "source": [
    "# Then, Let's calculate the variance!\n",
    "def calculate_variance(a_list_of_values, mean):\n",
    "    variance_sum = sum((x-mean)**2 for x in a_list_of_values)\n",
    "    variance = variance_sum / (len(a_list_of_values) - 1)\n",
    "    return variance"
   ]
  },
  {
   "cell_type": "code",
   "execution_count": 10,
   "metadata": {},
   "outputs": [
    {
     "name": "stdout",
     "output_type": "stream",
     "text": [
      "4.3\n",
      "6.536842105263156\n"
     ]
    }
   ],
   "source": [
    "mean_experience = calculate_mean(experience)\n",
    "print(mean_experience)\n",
    "variance_experience = calculate_variance(experience, mean_experience)\n",
    "print(variance_experience)"
   ]
  },
  {
   "cell_type": "code",
   "execution_count": 11,
   "metadata": {},
   "outputs": [
    {
     "name": "stdout",
     "output_type": "stream",
     "text": [
      "25675.0\n",
      "4191400921.0526314\n"
     ]
    }
   ],
   "source": [
    "mean_salary = calculate_mean(salary)\n",
    "print(mean_salary)\n",
    "variance_salary = calculate_variance(salary, mean_salary)\n",
    "print(variance_salary)"
   ]
  },
  {
   "cell_type": "code",
   "execution_count": 12,
   "metadata": {},
   "outputs": [],
   "source": [
    "# And then we calculate the Covariance\n",
    "\n",
    "def calculate_covariance(a_list_of_Xs, the_mean_of_Xs, a_list_of_Ys, the_mean_of_Ys):\n",
    "    cov_sum = 0\n",
    "    for i in range(len(a_list_of_Xs)):\n",
    "        cov_sum += (a_list_of_Xs[i] - the_mean_of_Xs)*(a_list_of_Ys[i] - the_mean_of_Ys)\n",
    "    the_covariance = cov_sum / (len(a_list_of_Xs) - 1)\n",
    "    return the_covariance"
   ]
  },
  {
   "cell_type": "code",
   "execution_count": 13,
   "metadata": {},
   "outputs": [
    {
     "data": {
      "text/html": [
       "<div>\n",
       "<style scoped>\n",
       "    .dataframe tbody tr th:only-of-type {\n",
       "        vertical-align: middle;\n",
       "    }\n",
       "\n",
       "    .dataframe tbody tr th {\n",
       "        vertical-align: top;\n",
       "    }\n",
       "\n",
       "    .dataframe thead th {\n",
       "        text-align: right;\n",
       "    }\n",
       "</style>\n",
       "<table border=\"1\" class=\"dataframe\">\n",
       "  <thead>\n",
       "    <tr style=\"text-align: right;\">\n",
       "      <th></th>\n",
       "      <th>experience</th>\n",
       "      <th>salary</th>\n",
       "    </tr>\n",
       "  </thead>\n",
       "  <tbody>\n",
       "    <tr>\n",
       "      <th>experience</th>\n",
       "      <td>6.536842</td>\n",
       "      <td>9.562368e+04</td>\n",
       "    </tr>\n",
       "    <tr>\n",
       "      <th>salary</th>\n",
       "      <td>95623.684211</td>\n",
       "      <td>4.191401e+09</td>\n",
       "    </tr>\n",
       "  </tbody>\n",
       "</table>\n",
       "</div>"
      ],
      "text/plain": [
       "              experience        salary\n",
       "experience      6.536842  9.562368e+04\n",
       "salary      95623.684211  4.191401e+09"
      ]
     },
     "execution_count": 13,
     "metadata": {},
     "output_type": "execute_result"
    }
   ],
   "source": [
    "df.cov()"
   ]
  },
  {
   "cell_type": "code",
   "execution_count": 14,
   "metadata": {},
   "outputs": [
    {
     "name": "stdout",
     "output_type": "stream",
     "text": [
      "95623.68421052632\n"
     ]
    }
   ],
   "source": [
    "covariance_of_experience_and_salary = calculate_covariance(experience, mean_experience, salary, mean_salary)\n",
    "print(covariance_of_experience_and_salary)"
   ]
  },
  {
   "cell_type": "code",
   "execution_count": 15,
   "metadata": {},
   "outputs": [],
   "source": [
    "# Let's calculate standard deviation!\n",
    "\n",
    "def calculate_the_stadard_deviation(a_list_of_values):\n",
    "    the_mean_of_the_list_values = sum(a_list_of_values) / float(len(a_list_of_values))\n",
    "    variance = sum([(a_list_of_values[i] - the_mean_of_the_list_values) ** 2 for i in range(len(a_list_of_values))]) / float(len(a_list_of_values) - 1)\n",
    "    return variance ** 0.5"
   ]
  },
  {
   "cell_type": "code",
   "execution_count": 16,
   "metadata": {},
   "outputs": [
    {
     "data": {
      "text/plain": [
       "3.0276503540974917"
      ]
     },
     "execution_count": 16,
     "metadata": {},
     "output_type": "execute_result"
    }
   ],
   "source": [
    "a = [1, 2, 3, 4, 5, 6, 7, 8, 9, 10]\n",
    "calculate_the_stadard_deviation(a)"
   ]
  },
  {
   "cell_type": "code",
   "execution_count": 17,
   "metadata": {},
   "outputs": [
    {
     "data": {
      "text/plain": [
       "2.8722813232690143"
      ]
     },
     "execution_count": 17,
     "metadata": {},
     "output_type": "execute_result"
    }
   ],
   "source": [
    "import pandas as pd\n",
    "b = np.array(a)\n",
    "b.std()"
   ]
  },
  {
   "cell_type": "code",
   "execution_count": 18,
   "metadata": {},
   "outputs": [],
   "source": [
    "# Let's calculate the correlation!\n",
    "\n",
    "def calculate_the_correlation(a_list_of_Xs, the_mean_of_Xs, a_list_of_Ys, the_mean_of_Ys):\n",
    "    X_std = calculate_the_stadard_deviation(a_list_of_Xs)\n",
    "    Y_std = calculate_the_stadard_deviation(a_list_of_Ys)\n",
    "    X_Y_Cov = calculate_covariance(a_list_of_Xs, the_mean_of_Xs, a_list_of_Ys, the_mean_of_Ys)\n",
    "    \n",
    "    Corr = X_Y_Cov / (X_std * Y_std)\n",
    "    return Corr"
   ]
  },
  {
   "cell_type": "code",
   "execution_count": 19,
   "metadata": {},
   "outputs": [
    {
     "data": {
      "text/plain": [
       "0.5776993416092882"
      ]
     },
     "execution_count": 19,
     "metadata": {},
     "output_type": "execute_result"
    }
   ],
   "source": [
    "calculate_the_correlation(experience, mean_experience, salary, mean_salary)"
   ]
  },
  {
   "cell_type": "code",
   "execution_count": 20,
   "metadata": {},
   "outputs": [
    {
     "data": {
      "text/html": [
       "<div>\n",
       "<style scoped>\n",
       "    .dataframe tbody tr th:only-of-type {\n",
       "        vertical-align: middle;\n",
       "    }\n",
       "\n",
       "    .dataframe tbody tr th {\n",
       "        vertical-align: top;\n",
       "    }\n",
       "\n",
       "    .dataframe thead th {\n",
       "        text-align: right;\n",
       "    }\n",
       "</style>\n",
       "<table border=\"1\" class=\"dataframe\">\n",
       "  <thead>\n",
       "    <tr style=\"text-align: right;\">\n",
       "      <th></th>\n",
       "      <th>experience</th>\n",
       "      <th>salary</th>\n",
       "    </tr>\n",
       "  </thead>\n",
       "  <tbody>\n",
       "    <tr>\n",
       "      <th>experience</th>\n",
       "      <td>1.000000</td>\n",
       "      <td>0.577699</td>\n",
       "    </tr>\n",
       "    <tr>\n",
       "      <th>salary</th>\n",
       "      <td>0.577699</td>\n",
       "      <td>1.000000</td>\n",
       "    </tr>\n",
       "  </tbody>\n",
       "</table>\n",
       "</div>"
      ],
      "text/plain": [
       "            experience    salary\n",
       "experience    1.000000  0.577699\n",
       "salary        0.577699  1.000000"
      ]
     },
     "execution_count": 20,
     "metadata": {},
     "output_type": "execute_result"
    }
   ],
   "source": [
    "df.corr()"
   ]
  },
  {
   "cell_type": "markdown",
   "metadata": {},
   "source": [
    "Make Prediction:Use one variable to make prediction about another\n",
    "\n",
    "dependent variable:Y\n",
    "\n",
    "independent variable:X\n",
    "\n",
    "William Inc  index"
   ]
  },
  {
   "cell_type": "markdown",
   "metadata": {},
   "source": [
    "Oridinary Least Square(OLS)"
   ]
  },
  {
   "cell_type": "markdown",
   "metadata": {},
   "source": [
    "$b1 = \\frac{Cov(X, Y)}{Variance(X, X)}=\\frac{\\sum_{i=1}^{n}(X_i-\\overline X)(Y_i-\\overline Y)}{\\sum_{i=1}^{n}(X_i-\\overline X)(X_i-\\overline X)}$\n",
    "$b0 = \\overline Y - b1 \\overline X$"
   ]
  },
  {
   "cell_type": "code",
   "execution_count": 21,
   "metadata": {},
   "outputs": [],
   "source": [
    "def calculate_the_coefficients(dataset):\n",
    "    x = [row[0] for row in dataset]\n",
    "    y = [row[1] for row in dataset]\n",
    "    x_mean, y_mean = calculate_mean(x), calculate_mean(y)\n",
    "    b1 = calculate_covariance(x, x_mean, y, y_mean) / calculate_variance(x, x_mean)\n",
    "    b0 = y_mean - b1 * x_mean\n",
    "    \n",
    "    return [b0, b1]"
   ]
  },
  {
   "cell_type": "code",
   "execution_count": 22,
   "metadata": {},
   "outputs": [
    {
     "data": {
      "text/plain": [
       "[(1, 5000),\n",
       " (2, 7000),\n",
       " (3, 8000),\n",
       " (4, 10000),\n",
       " (5, 15000),\n",
       " (6, 18000),\n",
       " (7, 19000),\n",
       " (8, 20000),\n",
       " (9, 16000),\n",
       " (10, 300000),\n",
       " (2, 12000),\n",
       " (2, 6000),\n",
       " (3, 8000),\n",
       " (3, 5500),\n",
       " (3, 9000),\n",
       " (2, 7800),\n",
       " (4, 9200),\n",
       " (5, 14000),\n",
       " (5, 16000),\n",
       " (2, 8000)]"
      ]
     },
     "execution_count": 22,
     "metadata": {},
     "output_type": "execute_result"
    }
   ],
   "source": [
    "list_of_tuples"
   ]
  },
  {
   "cell_type": "code",
   "execution_count": 23,
   "metadata": {},
   "outputs": [
    {
     "data": {
      "text/plain": [
       "[[1, 5000],\n",
       " [2, 7000],\n",
       " [3, 8000],\n",
       " [4, 10000],\n",
       " [5, 15000],\n",
       " [6, 18000],\n",
       " [7, 19000],\n",
       " [8, 20000],\n",
       " [9, 16000],\n",
       " [10, 300000],\n",
       " [2, 12000],\n",
       " [2, 6000],\n",
       " [3, 8000],\n",
       " [3, 5500],\n",
       " [3, 9000],\n",
       " [2, 7800],\n",
       " [4, 9200],\n",
       " [5, 14000],\n",
       " [5, 16000],\n",
       " [2, 8000]]"
      ]
     },
     "execution_count": 23,
     "metadata": {},
     "output_type": "execute_result"
    }
   ],
   "source": [
    "list_of_lists = [list(elem) for elem in list_of_tuples]\n",
    "list_of_lists"
   ]
  },
  {
   "cell_type": "code",
   "execution_count": 24,
   "metadata": {},
   "outputs": [
    {
     "data": {
      "text/plain": [
       "-37227.21417069245"
      ]
     },
     "execution_count": 24,
     "metadata": {},
     "output_type": "execute_result"
    }
   ],
   "source": [
    "b0, b1 = calculate_the_coefficients(list_of_lists)\n",
    "b0"
   ]
  },
  {
   "cell_type": "code",
   "execution_count": 25,
   "metadata": {},
   "outputs": [],
   "source": [
    "def simple_linear_regression(training_data, testing_data):\n",
    "    predictions = []\n",
    "    b0, b1 = calculate_the_coefficients(training_data)\n",
    "    for row in testing_data:\n",
    "        y = b0 + b1 * row[0]\n",
    "        predictions.append(y)\n",
    "    return predictions"
   ]
  },
  {
   "cell_type": "code",
   "execution_count": 26,
   "metadata": {},
   "outputs": [],
   "source": [
    "from math import sqrt\n",
    "def  calculate_the_RMSE(predicted_data, actual_data):\n",
    "    the_sum_of_error = 0\n",
    "    for i in range(len(actual_data)):\n",
    "        prediction_error = predicted_data[i] - actual_data[i]\n",
    "        the_sum_of_error += prediction_error ** 2\n",
    "    RMSE = sqrt(the_sum_of_error / float(len(actual_data)))\n",
    "    return RMSE"
   ]
  },
  {
   "cell_type": "code",
   "execution_count": 27,
   "metadata": {},
   "outputs": [
    {
     "data": {
      "text/plain": [
       "[[1, None],\n",
       " [2, None],\n",
       " [3, None],\n",
       " [4, None],\n",
       " [5, None],\n",
       " [6, None],\n",
       " [7, None],\n",
       " [8, None],\n",
       " [9, None],\n",
       " [10, None],\n",
       " [2, None],\n",
       " [2, None],\n",
       " [3, None],\n",
       " [3, None],\n",
       " [3, None],\n",
       " [2, None],\n",
       " [4, None],\n",
       " [5, None],\n",
       " [5, None],\n",
       " [2, None]]"
      ]
     },
     "execution_count": 27,
     "metadata": {},
     "output_type": "execute_result"
    }
   ],
   "source": [
    "data_to_be_put_into_the_model = []\n",
    "for row in list_of_lists:\n",
    "    row_copy = list(row)\n",
    "    row_copy[-1] = None\n",
    "    data_to_be_put_into_the_model.append(row_copy)\n",
    "data_to_be_put_into_the_model"
   ]
  },
  {
   "cell_type": "code",
   "execution_count": 28,
   "metadata": {},
   "outputs": [
    {
     "data": {
      "text/plain": [
       "[-22598.792270531416,\n",
       " -7970.3703703703795,\n",
       " 6658.05152979066,\n",
       " 21286.473429951693,\n",
       " 35914.895330112726,\n",
       " 50543.31723027377,\n",
       " 65171.739130434806,\n",
       " 79800.16103059583,\n",
       " 94428.58293075688,\n",
       " 109057.0048309179,\n",
       " -7970.3703703703795,\n",
       " -7970.3703703703795,\n",
       " 6658.05152979066,\n",
       " 6658.05152979066,\n",
       " 6658.05152979066,\n",
       " -7970.3703703703795,\n",
       " 21286.473429951693,\n",
       " 35914.895330112726,\n",
       " 35914.895330112726,\n",
       " -7970.3703703703795]"
      ]
     },
     "execution_count": 28,
     "metadata": {},
     "output_type": "execute_result"
    }
   ],
   "source": [
    "predictions = simple_linear_regression(list_of_lists, data_to_be_put_into_the_model)\n",
    "predictions"
   ]
  },
  {
   "cell_type": "code",
   "execution_count": 29,
   "metadata": {},
   "outputs": [
    {
     "data": {
      "text/plain": [
       "[5000,\n",
       " 7000,\n",
       " 8000,\n",
       " 10000,\n",
       " 15000,\n",
       " 18000,\n",
       " 19000,\n",
       " 20000,\n",
       " 16000,\n",
       " 300000,\n",
       " 12000,\n",
       " 6000,\n",
       " 8000,\n",
       " 5500,\n",
       " 9000,\n",
       " 7800,\n",
       " 9200,\n",
       " 14000,\n",
       " 16000,\n",
       " 8000]"
      ]
     },
     "execution_count": 29,
     "metadata": {},
     "output_type": "execute_result"
    }
   ],
   "source": [
    "actual_data = [row[-1] for row in list_of_lists]\n",
    "actual_data"
   ]
  },
  {
   "cell_type": "code",
   "execution_count": 33,
   "metadata": {},
   "outputs": [],
   "source": [
    "def how_good_is_our_model(dataset, some_model_to_be_evaluated):\n",
    "    test_data = []\n",
    "    for row in dataset:\n",
    "        row_copy = list(row)\n",
    "        row_copy[-1] = None\n",
    "        test_data.append(row_copy)\n",
    "    predict_data = some_model_to_be_evaluated(dataset, test_data)\n",
    "    print(predict_data)\n",
    "    actual_data = [row[-1] for row in dataset]\n",
    "    print(actual_data)\n",
    "    RMSE = calculate_the_RMSE(predict_data, actual_data)\n",
    "    return RMSE"
   ]
  },
  {
   "cell_type": "code",
   "execution_count": 34,
   "metadata": {},
   "outputs": [
    {
     "name": "stdout",
     "output_type": "stream",
     "text": [
      "[-22598.792270531416, -7970.3703703703795, 6658.05152979066, 21286.473429951693, 35914.895330112726, 50543.31723027377, 65171.739130434806, 79800.16103059583, 94428.58293075688, 109057.0048309179, -7970.3703703703795, -7970.3703703703795, 6658.05152979066, 6658.05152979066, 6658.05152979066, -7970.3703703703795, 21286.473429951693, 35914.895330112726, 35914.895330112726, -7970.3703703703795]\n",
      "[5000, 7000, 8000, 10000, 15000, 18000, 19000, 20000, 16000, 300000, 12000, 6000, 8000, 5500, 9000, 7800, 9200, 14000, 16000, 8000]\n",
      "51506.78070443368\n"
     ]
    }
   ],
   "source": [
    "result = how_good_is_our_model(list_of_lists, simple_linear_regression)\n",
    "print(result)"
   ]
  },
  {
   "cell_type": "code",
   "execution_count": null,
   "metadata": {},
   "outputs": [],
   "source": [
    "ANOVA(Analysis of Variance) Table"
   ]
  }
 ],
 "metadata": {
  "kernelspec": {
   "display_name": "Python 3",
   "language": "python",
   "name": "python3"
  },
  "language_info": {
   "codemirror_mode": {
    "name": "ipython",
    "version": 3
   },
   "file_extension": ".py",
   "mimetype": "text/x-python",
   "name": "python",
   "nbconvert_exporter": "python",
   "pygments_lexer": "ipython3",
   "version": "3.6.7"
  }
 },
 "nbformat": 4,
 "nbformat_minor": 2
}
